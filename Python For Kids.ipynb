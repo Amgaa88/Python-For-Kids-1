{
 "cells": [
  {
   "cell_type": "markdown",
   "id": "1488acce",
   "metadata": {},
   "source": [
    "# Chapter 2. Calculations and Variables"
   ]
  },
  {
   "cell_type": "code",
   "execution_count": 1,
   "id": "4b3ec5ae",
   "metadata": {},
   "outputs": [
    {
     "data": {
      "text/plain": [
       "28.56"
      ]
     },
     "execution_count": 1,
     "metadata": {},
     "output_type": "execute_result"
    }
   ],
   "source": [
    "8*3.57"
   ]
  },
  {
   "cell_type": "code",
   "execution_count": 2,
   "id": "6f75c034",
   "metadata": {},
   "outputs": [
    {
     "data": {
      "text/plain": [
       "3650"
      ]
     },
     "execution_count": 2,
     "metadata": {},
     "output_type": "execute_result"
    }
   ],
   "source": [
    "10*365"
   ]
  },
  {
   "cell_type": "code",
   "execution_count": 3,
   "id": "48ccf5c8",
   "metadata": {},
   "outputs": [
    {
     "data": {
      "text/plain": [
       "3670"
      ]
     },
     "execution_count": 3,
     "metadata": {},
     "output_type": "execute_result"
    }
   ],
   "source": [
    "20+3650"
   ]
  },
  {
   "cell_type": "code",
   "execution_count": 4,
   "id": "6cdf0524",
   "metadata": {},
   "outputs": [
    {
     "data": {
      "text/plain": [
       "156"
      ]
     },
     "execution_count": 4,
     "metadata": {},
     "output_type": "execute_result"
    }
   ],
   "source": [
    "3*52"
   ]
  },
  {
   "cell_type": "code",
   "execution_count": 5,
   "id": "3ceb8137",
   "metadata": {},
   "outputs": [
    {
     "data": {
      "text/plain": [
       "3514"
      ]
     },
     "execution_count": 5,
     "metadata": {},
     "output_type": "execute_result"
    }
   ],
   "source": [
    "3670-156"
   ]
  },
  {
   "cell_type": "markdown",
   "id": "04e7a633",
   "metadata": {},
   "source": [
    "# Python Operators"
   ]
  },
  {
   "cell_type": "code",
   "execution_count": 6,
   "id": "08f76bfe",
   "metadata": {},
   "outputs": [],
   "source": [
    "###Basic Python Operators"
   ]
  },
  {
   "cell_type": "code",
   "execution_count": null,
   "id": "c1ef6d63",
   "metadata": {},
   "outputs": [],
   "source": [
    "# Symbol | Operation\n",
    "---------------------------\n",
    "+      |  Addition\n",
    "-      |  Subtraction\n",
    "*      |  Multiplication\n",
    "/      |  Division"
   ]
  },
  {
   "cell_type": "markdown",
   "id": "a4e5e7f7",
   "metadata": {},
   "source": [
    "#The Order of Operations"
   ]
  },
  {
   "cell_type": "code",
   "execution_count": 7,
   "id": "1cf5af32",
   "metadata": {},
   "outputs": [
    {
     "data": {
      "text/plain": [
       "70.0"
      ]
     },
     "execution_count": 7,
     "metadata": {},
     "output_type": "execute_result"
    }
   ],
   "source": [
    "((5+30)*20)/10"
   ]
  },
  {
   "cell_type": "markdown",
   "id": "e2cedfa4",
   "metadata": {},
   "source": [
    "# Variables"
   ]
  },
  {
   "cell_type": "markdown",
   "id": "5ec5b31f",
   "metadata": {},
   "source": [
    "The word variable in programming describes a place to store information such as numbers, text, lists of numbers and text, and so on. \n",
    "Another way of looking at a variable is that it’s like a label \n",
    "for something.\n",
    "The word variable in programming describes a place to store information such as numbers, text, lists of numbers and text, and so on. \n",
    "Another way of looking at a variable is that it’s like a label for something."
   ]
  },
  {
   "cell_type": "code",
   "execution_count": 8,
   "id": "a635cadc",
   "metadata": {},
   "outputs": [],
   "source": [
    "fred=100"
   ]
  },
  {
   "cell_type": "code",
   "execution_count": 9,
   "id": "302eb3a9",
   "metadata": {},
   "outputs": [
    {
     "name": "stdout",
     "output_type": "stream",
     "text": [
      "100\n"
     ]
    }
   ],
   "source": [
    "print(fred)"
   ]
  },
  {
   "cell_type": "markdown",
   "id": "3088fd3e",
   "metadata": {},
   "source": [
    "For example, here’s how to change fred to the number 200:\n",
    "\n"
   ]
  },
  {
   "cell_type": "code",
   "execution_count": 10,
   "id": "7ef20d5b",
   "metadata": {},
   "outputs": [],
   "source": [
    "fred=200"
   ]
  },
  {
   "cell_type": "code",
   "execution_count": 11,
   "id": "ba16aae9",
   "metadata": {},
   "outputs": [
    {
     "name": "stdout",
     "output_type": "stream",
     "text": [
      "200\n"
     ]
    }
   ],
   "source": [
    "print(fred)"
   ]
  },
  {
   "cell_type": "markdown",
   "id": "29bcaedd",
   "metadata": {},
   "source": [
    "We can also use more than one label (more than one variable) for the same item:"
   ]
  },
  {
   "cell_type": "code",
   "execution_count": 12,
   "id": "c554b5e3",
   "metadata": {},
   "outputs": [
    {
     "name": "stdout",
     "output_type": "stream",
     "text": [
      "200\n"
     ]
    }
   ],
   "source": [
    "john=fred\n",
    "print(john)"
   ]
  },
  {
   "cell_type": "code",
   "execution_count": 13,
   "id": "b3d2a038",
   "metadata": {},
   "outputs": [
    {
     "name": "stdout",
     "output_type": "stream",
     "text": [
      "200\n"
     ]
    }
   ],
   "source": [
    "numberOfCoins=200\n",
    "print(numberOfCoins)\n"
   ]
  },
  {
   "cell_type": "markdown",
   "id": "03bcc81c",
   "metadata": {},
   "source": [
    "# Using Variables"
   ]
  },
  {
   "cell_type": "code",
   "execution_count": 14,
   "id": "8c0889c2",
   "metadata": {},
   "outputs": [
    {
     "data": {
      "text/plain": [
       "3670"
      ]
     },
     "execution_count": 14,
     "metadata": {},
     "output_type": "execute_result"
    }
   ],
   "source": [
    "20+10*365"
   ]
  },
  {
   "cell_type": "code",
   "execution_count": 15,
   "id": "5d24687f",
   "metadata": {},
   "outputs": [
    {
     "data": {
      "text/plain": [
       "156"
      ]
     },
     "execution_count": 15,
     "metadata": {},
     "output_type": "execute_result"
    }
   ],
   "source": [
    "3*52"
   ]
  },
  {
   "cell_type": "code",
   "execution_count": 16,
   "id": "2084e74b",
   "metadata": {},
   "outputs": [
    {
     "data": {
      "text/plain": [
       "3514"
      ]
     },
     "execution_count": 16,
     "metadata": {},
     "output_type": "execute_result"
    }
   ],
   "source": [
    "3670-156"
   ]
  },
  {
   "cell_type": "code",
   "execution_count": 17,
   "id": "1599949e",
   "metadata": {},
   "outputs": [],
   "source": [
    "found_coins=20\n",
    "magic_coins=10\n",
    "stolen_coins=3"
   ]
  },
  {
   "cell_type": "code",
   "execution_count": 18,
   "id": "f6fcdbb9",
   "metadata": {},
   "outputs": [
    {
     "data": {
      "text/plain": [
       "3514"
      ]
     },
     "execution_count": 18,
     "metadata": {},
     "output_type": "execute_result"
    }
   ],
   "source": [
    "found_coins+magic_coins*365-stolen_coins*52"
   ]
  },
  {
   "cell_type": "markdown",
   "id": "d6f7cf4c",
   "metadata": {},
   "source": [
    "# Chapter 3: Strings, Lists, Tuples, and Maps"
   ]
  },
  {
   "cell_type": "code",
   "execution_count": 19,
   "id": "de4ae297",
   "metadata": {},
   "outputs": [],
   "source": [
    "#Strings-Creating Strings"
   ]
  },
  {
   "cell_type": "code",
   "execution_count": 20,
   "id": "992f4b7e",
   "metadata": {},
   "outputs": [],
   "source": [
    "fred='Why do gorillas have big nostrills? Big fingers?'"
   ]
  },
  {
   "cell_type": "code",
   "execution_count": 21,
   "id": "fb926494",
   "metadata": {},
   "outputs": [
    {
     "name": "stdout",
     "output_type": "stream",
     "text": [
      "Why do gorillas have big nostrills? Big fingers?\n"
     ]
    }
   ],
   "source": [
    "print(fred)"
   ]
  },
  {
   "cell_type": "code",
   "execution_count": 22,
   "id": "10bd5392",
   "metadata": {},
   "outputs": [],
   "source": [
    "fred=\"How do dinosaurs pay their bills?\""
   ]
  },
  {
   "cell_type": "code",
   "execution_count": 23,
   "id": "a55fd89c",
   "metadata": {},
   "outputs": [
    {
     "name": "stdout",
     "output_type": "stream",
     "text": [
      "How do dinosaurs pay their bills?\n"
     ]
    }
   ],
   "source": [
    "print(fred)"
   ]
  },
  {
   "cell_type": "code",
   "execution_count": 24,
   "id": "776280bd",
   "metadata": {},
   "outputs": [],
   "source": [
    "#Don't write like the words below: Aren't, can't, shouldn't, wouldn't"
   ]
  },
  {
   "cell_type": "markdown",
   "id": "17f21b37",
   "metadata": {},
   "source": [
    "# Embedding Values in Strings - String Manipulation"
   ]
  },
  {
   "cell_type": "code",
   "execution_count": 25,
   "id": "02c1050e",
   "metadata": {},
   "outputs": [
    {
     "name": "stdout",
     "output_type": "stream",
     "text": [
      "I scored 1000 points\n"
     ]
    }
   ],
   "source": [
    "myScore=1000\n",
    "message=\"I scored %s points\"\n",
    "print(message % myScore)"
   ]
  },
  {
   "cell_type": "code",
   "execution_count": 26,
   "id": "1c85256f",
   "metadata": {},
   "outputs": [],
   "source": [
    "#We can also pass in different values for the %s \n",
    "#placeholder, using different variables, as in this example"
   ]
  },
  {
   "cell_type": "code",
   "execution_count": 1,
   "id": "5609d048",
   "metadata": {},
   "outputs": [
    {
     "name": "stdout",
     "output_type": "stream",
     "text": [
      "Knee: a device for finding furniture in the dark\n"
     ]
    }
   ],
   "source": [
    "joke_text=\"%s: a device for finding furniture in the dark\"\n",
    "bodyPart1='Knee'\n",
    "bodyPart2='Shin'\n",
    "print(joke_text % bodyPart1)\n"
   ]
  },
  {
   "cell_type": "code",
   "execution_count": 2,
   "id": "eafc1f6e",
   "metadata": {},
   "outputs": [],
   "source": [
    "#You can also use more than one placeholder in a string, like this:"
   ]
  },
  {
   "cell_type": "code",
   "execution_count": 3,
   "id": "48bc2795",
   "metadata": {},
   "outputs": [
    {
     "name": "stdout",
     "output_type": "stream",
     "text": [
      "What did the number 0 say to the number 8? Nice belt!\n"
     ]
    }
   ],
   "source": [
    "nums=\"What did the number %s say to the number %s? Nice belt!\"\n",
    "print(nums % (0,8))"
   ]
  },
  {
   "cell_type": "markdown",
   "id": "b16e1985",
   "metadata": {},
   "source": [
    "# Multiplying Strings"
   ]
  },
  {
   "cell_type": "code",
   "execution_count": 4,
   "id": "0d1e9ab7",
   "metadata": {},
   "outputs": [
    {
     "name": "stdout",
     "output_type": "stream",
     "text": [
      "aaaaaaaaaa\n"
     ]
    }
   ],
   "source": [
    "print(10*'a')"
   ]
  },
  {
   "cell_type": "code",
   "execution_count": 5,
   "id": "40c8a768",
   "metadata": {},
   "outputs": [
    {
     "name": "stdout",
     "output_type": "stream",
     "text": [
      "                          12 Butts Wynd\n",
      "                          Twinklebottom Heath\n",
      "                          West Snoring\n",
      "\n",
      "\n",
      "Dear Sir\n",
      "\n",
      "I wish to report that tiles are missing from the\n",
      "outside toilet roof.\n",
      "I think it was bad wind the other night that blew them away.\n",
      "\n",
      "Regards\n",
      "Malcolm Dithering\n"
     ]
    }
   ],
   "source": [
    "spaces = ' ' * 25\n",
    "print('%s 12 Butts Wynd' % spaces)\n",
    "print('%s Twinklebottom Heath' % spaces)\n",
    "print('%s West Snoring' % spaces)\n",
    "print()\n",
    "print()\n",
    "print('Dear Sir')\n",
    "print()\n",
    "print('I wish to report that tiles are missing from the')\n",
    "print('outside toilet roof.')\n",
    "print('I think it was bad wind the other night that blew them away.')\n",
    "print()\n",
    "print('Regards')\n",
    "print('Malcolm Dithering')"
   ]
  },
  {
   "cell_type": "markdown",
   "id": "41fc3c6d",
   "metadata": {},
   "source": [
    "# Lists are more Powerful than Strings"
   ]
  },
  {
   "cell_type": "code",
   "execution_count": 6,
   "id": "a95afb63",
   "metadata": {},
   "outputs": [],
   "source": [
    "wizard_list='spider_legs, toe of frog, eye of newt, bat wing, slug butter, snake dandruff'"
   ]
  },
  {
   "cell_type": "code",
   "execution_count": 7,
   "id": "74cb2395",
   "metadata": {},
   "outputs": [
    {
     "name": "stdout",
     "output_type": "stream",
     "text": [
      "spider_legs, toe of frog, eye of newt, bat wing, slug butter, snake dandruff\n"
     ]
    }
   ],
   "source": [
    "print(wizard_list)"
   ]
  },
  {
   "cell_type": "code",
   "execution_count": 8,
   "id": "42734e0c",
   "metadata": {},
   "outputs": [],
   "source": [
    "#But we could also create a list, a somewhat magical kind of Python object that we can manipulate."
   ]
  },
  {
   "cell_type": "code",
   "execution_count": 9,
   "id": "426372ee",
   "metadata": {},
   "outputs": [
    {
     "name": "stdout",
     "output_type": "stream",
     "text": [
      "['spider legs', 'toe of frog', 'eye of newt', 'bat wing', 'slug buter', 'snake dandruff']\n"
     ]
    }
   ],
   "source": [
    "wizard_list=['spider legs', 'toe of frog', 'eye of newt', 'bat wing', 'slug buter', 'snake dandruff']\n",
    "print(wizard_list)"
   ]
  },
  {
   "cell_type": "markdown",
   "id": "b6d0061c",
   "metadata": {},
   "source": [
    "Creating a list takes a bit more typing than creating a string, but a list is more useful \n",
    "than a string because it can be manipulated. For example, we could print the third item \n",
    "in the wizard_list (eye of newt) by entering \n",
    "its position in the list (called the index position) inside square brackets ([]), like this:"
   ]
  },
  {
   "cell_type": "code",
   "execution_count": 10,
   "id": "00184a6a",
   "metadata": {},
   "outputs": [
    {
     "name": "stdout",
     "output_type": "stream",
     "text": [
      "eye of newt\n"
     ]
    }
   ],
   "source": [
    "print(wizard_list[2])"
   ]
  },
  {
   "cell_type": "markdown",
   "id": "ff791c32",
   "metadata": {},
   "source": [
    "We can also change an item in a list much more easily than we could in a string. \n",
    "Perhaps instead of eye of newt we needed a snail tongue. Here’s how we would do that with our list:"
   ]
  },
  {
   "cell_type": "code",
   "execution_count": 11,
   "id": "4cbcd82f",
   "metadata": {},
   "outputs": [],
   "source": [
    "wizard_list[2]='snail tongue'"
   ]
  },
  {
   "cell_type": "code",
   "execution_count": 12,
   "id": "0a5801b8",
   "metadata": {},
   "outputs": [
    {
     "name": "stdout",
     "output_type": "stream",
     "text": [
      "['spider legs', 'toe of frog', 'snail tongue', 'bat wing', 'slug buter', 'snake dandruff']\n"
     ]
    }
   ],
   "source": [
    "print(wizard_list)"
   ]
  },
  {
   "cell_type": "markdown",
   "id": "1e8564f1",
   "metadata": {},
   "source": [
    "Another option is to show a subset of the items in the list. We do this by using a colon (:) inside square brack ets."
   ]
  },
  {
   "cell_type": "code",
   "execution_count": 13,
   "id": "12f80f6f",
   "metadata": {},
   "outputs": [
    {
     "name": "stdout",
     "output_type": "stream",
     "text": [
      "['snail tongue', 'bat wing', 'slug buter']\n"
     ]
    }
   ],
   "source": [
    "print(wizard_list[2:5])"
   ]
  },
  {
   "cell_type": "markdown",
   "id": "33b76925",
   "metadata": {},
   "source": [
    "Lists can be used to store all sorts of items, like numbers:"
   ]
  },
  {
   "cell_type": "code",
   "execution_count": 14,
   "id": "6963f48d",
   "metadata": {},
   "outputs": [],
   "source": [
    "some_numbers=[1,2,5,10,20]"
   ]
  },
  {
   "cell_type": "markdown",
   "id": "4247d2ca",
   "metadata": {},
   "source": [
    "They can also hold strings:"
   ]
  },
  {
   "cell_type": "code",
   "execution_count": 15,
   "id": "6fb6d3e0",
   "metadata": {},
   "outputs": [],
   "source": [
    "some_strings = ['Which', 'Witch', 'Is', 'Which']"
   ]
  },
  {
   "cell_type": "markdown",
   "id": "baa3e67d",
   "metadata": {},
   "source": [
    "They might have mixtures of numbers and strings:"
   ]
  },
  {
   "cell_type": "code",
   "execution_count": 16,
   "id": "6adaf629",
   "metadata": {},
   "outputs": [],
   "source": [
    "numbers_and_strings = ['Why', 'was', 6, 'afraid', 'of', 7,\n",
    "                       'because', 7, 8, 9]"
   ]
  },
  {
   "cell_type": "code",
   "execution_count": 18,
   "id": "ef58b93b",
   "metadata": {},
   "outputs": [
    {
     "name": "stdout",
     "output_type": "stream",
     "text": [
      "['Why', 'was', 6, 'afraid', 'of', 7, 'because', 7, 8, 9]\n"
     ]
    }
   ],
   "source": [
    "print(numbers_and_strings)"
   ]
  },
  {
   "cell_type": "markdown",
   "id": "e188a4fe",
   "metadata": {},
   "source": [
    "And lists might even store other lists:"
   ]
  },
  {
   "cell_type": "code",
   "execution_count": 19,
   "id": "a89a9ace",
   "metadata": {},
   "outputs": [
    {
     "name": "stdout",
     "output_type": "stream",
     "text": [
      "[[1, 2, 3, 4], ['I', 'kicked', 'my', 'toe', 'and', 'it', 'is', 'sore']]\n"
     ]
    }
   ],
   "source": [
    "numbers = [1, 2, 3, 4]\n",
    "strings = ['I', 'kicked', 'my', 'toe', 'and', 'it', 'is', 'sore']\n",
    "mylist = [numbers, strings]\n",
    "print(mylist)"
   ]
  },
  {
   "cell_type": "markdown",
   "id": "26285bca",
   "metadata": {},
   "source": [
    "# Adding Items to a List"
   ]
  },
  {
   "cell_type": "markdown",
   "id": "0d94ef6d",
   "metadata": {},
   "source": [
    "To add items to a list, we use the append function. A function is a chunk of code that tells Python to do something. \n",
    "In this case, append adds an item to the end of a list"
   ]
  },
  {
   "cell_type": "code",
   "execution_count": 20,
   "id": "76a55e79",
   "metadata": {},
   "outputs": [
    {
     "name": "stdout",
     "output_type": "stream",
     "text": [
      "['spider legs', 'toe of frog', 'snail tongue', 'bat wing', 'slug buter', 'snake dandruff', 'bear burp']\n"
     ]
    }
   ],
   "source": [
    "wizard_list.append('bear burp')\n",
    "print(wizard_list)"
   ]
  },
  {
   "cell_type": "markdown",
   "id": "c8ae750f",
   "metadata": {},
   "source": [
    "You can keep adding more magical items to the wizard’s list in the same way, like so:"
   ]
  },
  {
   "cell_type": "code",
   "execution_count": 21,
   "id": "71838571",
   "metadata": {},
   "outputs": [
    {
     "name": "stdout",
     "output_type": "stream",
     "text": [
      "['spider legs', 'toe of frog', 'snail tongue', 'bat wing', 'slug buter', 'snake dandruff', 'bear burp', 'mandrake', 'hemlock', 'swamp gas']\n"
     ]
    }
   ],
   "source": [
    "wizard_list.append('mandrake')\n",
    "wizard_list.append('hemlock')\n",
    "wizard_list.append('swamp gas')\n",
    "print(wizard_list)"
   ]
  },
  {
   "cell_type": "markdown",
   "id": "8a01d125",
   "metadata": {},
   "source": [
    "# Removing Items from a List"
   ]
  },
  {
   "cell_type": "markdown",
   "id": "c37bf187",
   "metadata": {},
   "source": [
    "To remove items from a list, use the del command (short for delete). \n",
    "For example, to remove the sixth item in the wizard’s list, snake dandruff, do this:"
   ]
  },
  {
   "cell_type": "code",
   "execution_count": 22,
   "id": "05cee065",
   "metadata": {},
   "outputs": [
    {
     "name": "stdout",
     "output_type": "stream",
     "text": [
      "['spider legs', 'toe of frog', 'snail tongue', 'bat wing', 'slug buter', 'bear burp', 'mandrake', 'hemlock', 'swamp gas']\n"
     ]
    }
   ],
   "source": [
    "del wizard_list[5]\n",
    "print(wizard_list)"
   ]
  },
  {
   "cell_type": "markdown",
   "id": "37c309fe",
   "metadata": {},
   "source": [
    "And here’s how to remove the items we just added (mandrake, hemlock, and swamp gas):"
   ]
  },
  {
   "cell_type": "code",
   "execution_count": 23,
   "id": "050ed781",
   "metadata": {},
   "outputs": [
    {
     "name": "stdout",
     "output_type": "stream",
     "text": [
      "['spider legs', 'toe of frog', 'snail tongue', 'bat wing', 'slug buter', 'bear burp']\n"
     ]
    }
   ],
   "source": [
    "del wizard_list[8]\n",
    "del wizard_list[7]\n",
    "del wizard_list[6]\n",
    "print(wizard_list)"
   ]
  },
  {
   "cell_type": "markdown",
   "id": "2d170d34",
   "metadata": {},
   "source": [
    "# List Arithmetic"
   ]
  },
  {
   "cell_type": "markdown",
   "id": "d59746a7",
   "metadata": {},
   "source": [
    "We can join lists by adding them, just like adding numbers, using a plus (+) sign."
   ]
  },
  {
   "cell_type": "code",
   "execution_count": 24,
   "id": "0777a97b",
   "metadata": {},
   "outputs": [
    {
     "name": "stdout",
     "output_type": "stream",
     "text": [
      "[1, 2, 3, 4, 'I', 'tripped', 'over', 'and', 'hit', 'the', 'floor']\n"
     ]
    }
   ],
   "source": [
    "list1 = [1, 2, 3, 4]\n",
    "list2 = ['I', 'tripped', 'over', 'and', 'hit', 'the', 'floor']\n",
    "print(list1 + list2)"
   ]
  },
  {
   "cell_type": "markdown",
   "id": "eb698e11",
   "metadata": {},
   "source": [
    "We can also add the two lists and set the result equal to another variable."
   ]
  },
  {
   "cell_type": "code",
   "execution_count": 25,
   "id": "7588590a",
   "metadata": {},
   "outputs": [
    {
     "name": "stdout",
     "output_type": "stream",
     "text": [
      "[1, 2, 3, 4, 'I', 'ate', 'chocolate', 'and', 'I', 'want', 'more']\n"
     ]
    }
   ],
   "source": [
    "list1 = [1, 2, 3, 4]\n",
    "list2 = ['I', 'ate', 'chocolate', 'and', 'I', 'want', 'more']\n",
    "list3 = list1 + list2\n",
    "print(list3)"
   ]
  },
  {
   "cell_type": "markdown",
   "id": "06856b8f",
   "metadata": {},
   "source": [
    "And we can multiply a list by a number. For example, to multiply list1 by 5, we write list1 * 5:"
   ]
  },
  {
   "cell_type": "code",
   "execution_count": 26,
   "id": "a9cd34e8",
   "metadata": {},
   "outputs": [
    {
     "name": "stdout",
     "output_type": "stream",
     "text": [
      "[1, 2, 1, 2, 1, 2, 1, 2, 1, 2]\n"
     ]
    }
   ],
   "source": [
    "list1 = [1, 2]\n",
    "print(list1 * 5)"
   ]
  },
  {
   "cell_type": "markdown",
   "id": "730d953d",
   "metadata": {},
   "source": [
    "# Tuples"
   ]
  },
  {
   "cell_type": "markdown",
   "id": "4394685e",
   "metadata": {},
   "source": [
    "A tuple is like a list that uses parentheses, as in this example:"
   ]
  },
  {
   "cell_type": "code",
   "execution_count": 27,
   "id": "c9a0b4ee",
   "metadata": {},
   "outputs": [
    {
     "name": "stdout",
     "output_type": "stream",
     "text": [
      "2\n"
     ]
    }
   ],
   "source": [
    "fibs = (0, 1, 1, 2, 3)\n",
    "print(fibs[3])"
   ]
  },
  {
   "cell_type": "markdown",
   "id": "f560c9c1",
   "metadata": {},
   "source": [
    "The main difference between a tuple and a list is that a tuple cannot change once you’ve created it."
   ]
  },
  {
   "cell_type": "markdown",
   "id": "77cc41d3",
   "metadata": {},
   "source": [
    "# Python Maps Won’t Help You Find Your Way"
   ]
  },
  {
   "cell_type": "markdown",
   "id": "48179aa3",
   "metadata": {},
   "source": [
    "In Python, a map (also referred to as a dict, short for dictionary) is a collection of things, like lists and tuples."
   ]
  },
  {
   "cell_type": "code",
   "execution_count": 28,
   "id": "582ace32",
   "metadata": {},
   "outputs": [],
   "source": [
    "favorite_sports = {'Ralph Williams' : 'Football',\n",
    "                   'Michael Tippett' : 'Basketball',\n",
    "                   'Edward Elgar' : 'Baseball',\n",
    "                   'Rebecca Clarke' : 'Netball',\n",
    "                   'Ethel Smyth' : 'Badminton',\n",
    "                   'Frank Bridge' : 'Rugby'}"
   ]
  },
  {
   "cell_type": "markdown",
   "id": "8ea7e4f5",
   "metadata": {},
   "source": [
    "Keys Pointing to Values in a Map of Favorite Sports\n",
    "--------------------------------------------------------------------------\n",
    "Key                     |         Value\n",
    "=========================\n",
    "Ralph Williams          |         Football\n",
    "Michael Tippett         |         Basketball\n",
    "Edward Elga             |         Baseball\n",
    "Rebecca Clarke          |         Netball\n",
    "Ethel Smyth             |         Badminton\n",
    "Frank Bridge            |         Rugby"
   ]
  },
  {
   "cell_type": "code",
   "execution_count": 29,
   "id": "edf80260",
   "metadata": {},
   "outputs": [
    {
     "name": "stdout",
     "output_type": "stream",
     "text": [
      "Netball\n"
     ]
    }
   ],
   "source": [
    "print(favorite_sports['Rebecca Clarke'])"
   ]
  },
  {
   "cell_type": "markdown",
   "id": "0f64d9f9",
   "metadata": {},
   "source": [
    "To delete a value in a map, use its key. For example, here’s how to remove Ethel Smyth:"
   ]
  },
  {
   "cell_type": "code",
   "execution_count": 30,
   "id": "060ee763",
   "metadata": {},
   "outputs": [],
   "source": [
    "del favorite_sports['Ethel Smyth']"
   ]
  },
  {
   "cell_type": "code",
   "execution_count": 31,
   "id": "13b0067f",
   "metadata": {},
   "outputs": [
    {
     "name": "stdout",
     "output_type": "stream",
     "text": [
      "{'Ralph Williams': 'Football', 'Michael Tippett': 'Basketball', 'Edward Elgar': 'Baseball', 'Rebecca Clarke': 'Netball', 'Frank Bridge': 'Rugby'}\n"
     ]
    }
   ],
   "source": [
    "print(favorite_sports)"
   ]
  },
  {
   "cell_type": "markdown",
   "id": "a0640a54",
   "metadata": {},
   "source": [
    "To replace a value in a map, we also use its key:"
   ]
  },
  {
   "cell_type": "code",
   "execution_count": 32,
   "id": "5c14ddc5",
   "metadata": {},
   "outputs": [
    {
     "name": "stdout",
     "output_type": "stream",
     "text": [
      "{'Ralph Williams': 'Ice Hockey', 'Michael Tippett': 'Basketball', 'Edward Elgar': 'Baseball', 'Rebecca Clarke': 'Netball', 'Frank Bridge': 'Rugby'}\n"
     ]
    }
   ],
   "source": [
    "favorite_sports['Ralph Williams'] = 'Ice Hockey'\n",
    "print(favorite_sports)"
   ]
  },
  {
   "cell_type": "markdown",
   "id": "8fb8e622",
   "metadata": {},
   "source": [
    "You can’t join maps with the plus operator (+)."
   ]
  },
  {
   "cell_type": "markdown",
   "id": "7b16dcb6",
   "metadata": {},
   "source": [
    "# HomeWork"
   ]
  },
  {
   "cell_type": "markdown",
   "id": "4ab8df6b",
   "metadata": {},
   "source": [
    "#1: Favorites\n",
    "Make a list of your favorite hobbies and give the list the variable name games. \n",
    "Now make a list of your favorite foods and name the variable foods. Join the two lists and name the result favorites. \n",
    "Finally, print the variable favorites."
   ]
  },
  {
   "cell_type": "markdown",
   "id": "dac2614a",
   "metadata": {},
   "source": [
    "#2: Counting Combatants\n",
    "If there are 3 buildings with 25 ninjas hiding on each roof and 2 tunnels with 40 samurai hiding inside each tunnel, how many ninjas and samurai are about to do battle? \n",
    "(You can do this with one equation in the Python shell.)"
   ]
  },
  {
   "cell_type": "markdown",
   "id": "d8a65278",
   "metadata": {},
   "source": [
    "#3: Greetings!\n",
    "Create two variables: one that points to your first name and one that points to your last name. \n",
    "Now create a string and use placeholders to print your name with a message using those two variables, \n",
    "such as “Hi there, Brando Ickett!”"
   ]
  },
  {
   "cell_type": "markdown",
   "id": "7ade59c8",
   "metadata": {},
   "source": [
    "# Chapter 4. Drawing with Turtles"
   ]
  },
  {
   "cell_type": "markdown",
   "id": "f0718285",
   "metadata": {},
   "source": [
    "Using Python's turtle Module"
   ]
  },
  {
   "cell_type": "code",
   "execution_count": 33,
   "id": "c83c797f",
   "metadata": {},
   "outputs": [],
   "source": [
    "import turtle"
   ]
  },
  {
   "cell_type": "markdown",
   "id": "c04de379",
   "metadata": {},
   "source": [
    "A module in Python is a way of providing useful code \n",
    "to be used by another program (among other things, the module can contain functions we can use)."
   ]
  },
  {
   "cell_type": "markdown",
   "id": "31388b76",
   "metadata": {},
   "source": [
    "# Creating a Canvas"
   ]
  },
  {
   "cell_type": "markdown",
   "id": "c02d6b70",
   "metadata": {},
   "source": [
    "Now that we have imported the turtle module, we need to create a canvas—a blank space to draw on, like an artist’s canvas. \n",
    "To do so, we call the function Pen from the turtle module, which automatically creates a canvas. \n",
    "Enter this into the Python shell:"
   ]
  },
  {
   "cell_type": "code",
   "execution_count": 34,
   "id": "fc8edd61",
   "metadata": {},
   "outputs": [],
   "source": [
    "t = turtle.Pen()"
   ]
  },
  {
   "cell_type": "markdown",
   "id": "f49019b9",
   "metadata": {},
   "source": [
    "# Moving the turtle"
   ]
  },
  {
   "cell_type": "code",
   "execution_count": 45,
   "id": "90453d2b",
   "metadata": {},
   "outputs": [],
   "source": [
    "t.forward(50)"
   ]
  },
  {
   "cell_type": "markdown",
   "id": "c6666ddd",
   "metadata": {},
   "source": [
    "The turtle has moved forward 50 pixels. A pixel is a single point on the screen—the smallest element that can be represented."
   ]
  },
  {
   "cell_type": "code",
   "execution_count": 46,
   "id": "cc5cf45f",
   "metadata": {},
   "outputs": [],
   "source": [
    "t=turtle.Pen()\n",
    "t.forward(50)"
   ]
  },
  {
   "cell_type": "code",
   "execution_count": 47,
   "id": "ef4f5683",
   "metadata": {},
   "outputs": [],
   "source": [
    "#Now we’ll tell the turtle to turn left 90 degrees with the following command:\n",
    "t.left(90)  "
   ]
  },
  {
   "cell_type": "markdown",
   "id": "7140b9f7",
   "metadata": {},
   "source": [
    "If you haven’t learned about degrees yet, here’s how to think about them. Imagine that you’re standing in the center of a circle.\n",
    "\n",
    "The direction you’re facing is 0 degrees.\n",
    "\n",
    "If you hold out your left arm, that’s 90 degrees left.\n",
    "\n",
    "If you hold out your right arm, that’s 90 degrees right."
   ]
  },
  {
   "cell_type": "code",
   "execution_count": 48,
   "id": "a0977e98",
   "metadata": {},
   "outputs": [],
   "source": [
    "t.forward(50)\n",
    "t.left(90)\n",
    "t.forward(50)\n",
    "t.left(90)\n",
    "t.forward(50)\n",
    "t.left(90)"
   ]
  },
  {
   "cell_type": "code",
   "execution_count": 49,
   "id": "87a456a6",
   "metadata": {},
   "outputs": [],
   "source": [
    "t.reset()"
   ]
  },
  {
   "cell_type": "code",
   "execution_count": 50,
   "id": "cb467ede",
   "metadata": {},
   "outputs": [],
   "source": [
    "t.clear()"
   ]
  },
  {
   "cell_type": "code",
   "execution_count": 51,
   "id": "224422d3",
   "metadata": {},
   "outputs": [],
   "source": [
    "t.reset()\n",
    "t.backward(100)\n",
    "t.up()\n",
    "t.right(90)\n",
    "t.forward(20)\n",
    "t.left(90)\n",
    "t.down()\n",
    "t.forward(100)"
   ]
  },
  {
   "cell_type": "markdown",
   "id": "532189c9",
   "metadata": {},
   "source": [
    "# Homework"
   ]
  },
  {
   "cell_type": "markdown",
   "id": "e7049650",
   "metadata": {},
   "source": [
    "#1: A Rectangle\n",
    "Create a new canvas using the turtle module’s Pen function and then draw a rectangle."
   ]
  },
  {
   "cell_type": "markdown",
   "id": "f2a276e7",
   "metadata": {},
   "source": [
    "#2: A Triangle\n",
    "Create another canvas, and this time, draw a triangle. Look back at the diagram of the \n",
    "circle with the degrees (Moving the Turtle in Moving the Turtle) \n",
    "to remind yourself which direction to turn the turtle using degrees."
   ]
  },
  {
   "cell_type": "markdown",
   "id": "c667dc53",
   "metadata": {},
   "source": [
    "#3: A Box Without Corners\n",
    "Write a program to draw the four lines shown here (the size isn’t important, just the shape):"
   ]
  },
  {
   "cell_type": "markdown",
   "id": "6e8d291a",
   "metadata": {},
   "source": [
    "# Chapter 5. Asking Questions with if and else"
   ]
  },
  {
   "cell_type": "markdown",
   "id": "05cf9aed",
   "metadata": {},
   "source": [
    "In programming, we often ask yes or no questions, and decide to do something based on the answer. \n",
    "For example, we might ask, “Are you older than 20?” and if the answer is yes, respond with “You are too old!”\n",
    "\n",
    "These sorts of questions are called conditions, and we combine \n",
    "these conditions and the responses into if statements. Conditions can be more complicated \n",
    "than a single question, and if statements can also be combined with multiple questions and different responses based on the answer to each question.\n",
    "\n",
    "In this chapter, you’ll learn how to use if statements to build programs."
   ]
  },
  {
   "cell_type": "markdown",
   "id": "8b5050b7",
   "metadata": {},
   "source": [
    "# if Statements"
   ]
  },
  {
   "cell_type": "markdown",
   "id": "10f44763",
   "metadata": {},
   "source": [
    "An if statement might be written in Python like this:"
   ]
  },
  {
   "cell_type": "code",
   "execution_count": 55,
   "id": "b0a69001",
   "metadata": {},
   "outputs": [],
   "source": [
    "age = 12\n",
    "if age > 20:\n",
    "    print('You are too old!')"
   ]
  },
  {
   "cell_type": "markdown",
   "id": "bb0ddf0e",
   "metadata": {},
   "source": [
    "# A Block Is a Group of Programming Statements"
   ]
  },
  {
   "cell_type": "markdown",
   "id": "03da3671",
   "metadata": {},
   "source": [
    "A block of code is a grouped set of programming statements. \n",
    "For example, when if age > 20: is true, you might want to do more than just print “You are too old!” \n",
    "Perhaps you want to print out a few other choice sentences, like this:"
   ]
  },
  {
   "cell_type": "code",
   "execution_count": 58,
   "id": "73aa1f17",
   "metadata": {},
   "outputs": [
    {
     "name": "stdout",
     "output_type": "stream",
     "text": [
      "You are too old!\n",
      "Why are you here?\n",
      "Why aren't you mowing a lawn or sorting papers?\n"
     ]
    }
   ],
   "source": [
    "age = 25\n",
    "if age > 20:\n",
    "    print('You are too old!')\n",
    "    print('Why are you here?')\n",
    "    print('Why aren\\'t you mowing a lawn or sorting papers?')"
   ]
  },
  {
   "cell_type": "markdown",
   "id": "06d22994",
   "metadata": {},
   "source": [
    "# Conditions Help Us Compare Things"
   ]
  },
  {
   "cell_type": "markdown",
   "id": "abc90154",
   "metadata": {},
   "source": [
    "A condition is a programming statement that compares things and tells us whether \n",
    "the criteria set by the comparison are either True (yes) or False (no). \n",
    "For example, age > 10 is a condition, and is another way of saying, \n",
    "“Is the value of the age variable greater than 10?” This is also a condition: \n",
    "    hair_color == 'mauve', which is another way of saying, \n",
    "    “Is the value of the hair_color variable mauve?”"
   ]
  },
  {
   "cell_type": "markdown",
   "id": "3e04715f",
   "metadata": {},
   "source": [
    "We use symbols in Python (called operators) to create our conditions, \n",
    "such as equal to, greater than, and less than. Table 5-1 lists some symbols for conditions."
   ]
  },
  {
   "cell_type": "markdown",
   "id": "8d78920d",
   "metadata": {},
   "source": [
    "Symbols for Conditions\n",
    "---------------------------------\n",
    "Symbol    |     Definition\n",
    "---------------------------------\n",
    "==        |     Equal to\n",
    "!=        |     Not equal to\n",
    ">         |     Greater than\n",
    "<         |     Less than\n",
    ">=        |     Greater than or equal to\n",
    "<=        |     Less than or equal to"
   ]
  },
  {
   "cell_type": "code",
   "execution_count": 59,
   "id": "f3413074",
   "metadata": {},
   "outputs": [],
   "source": [
    "age = 10\n",
    "if age > 10:\n",
    "    print('You are too old for my jokes!')"
   ]
  },
  {
   "cell_type": "code",
   "execution_count": 60,
   "id": "bac98845",
   "metadata": {},
   "outputs": [
    {
     "name": "stdout",
     "output_type": "stream",
     "text": [
      "You are too old for my jokes!\n"
     ]
    }
   ],
   "source": [
    "age = 10\n",
    "if age >= 10:\n",
    "    print('You are too old for my jokes!')"
   ]
  },
  {
   "cell_type": "code",
   "execution_count": 61,
   "id": "12b5cd66",
   "metadata": {},
   "outputs": [
    {
     "name": "stdout",
     "output_type": "stream",
     "text": [
      "What's brown and sticky? A stick!\n"
     ]
    }
   ],
   "source": [
    "age = 10\n",
    "if age ==10:\n",
    "    print('What\\'s brown and sticky? A stick!')"
   ]
  },
  {
   "cell_type": "markdown",
   "id": "731da6d1",
   "metadata": {},
   "source": [
    "# if-then-else Statements"
   ]
  },
  {
   "cell_type": "markdown",
   "id": "c069043b",
   "metadata": {},
   "source": [
    "Let’s create an if-then-else statement. Enter the following into the shell:"
   ]
  },
  {
   "cell_type": "code",
   "execution_count": 63,
   "id": "ebfedee3",
   "metadata": {},
   "outputs": [
    {
     "name": "stdout",
     "output_type": "stream",
     "text": [
      "Want to hear a dirty joke?\n",
      "Shh. It's a secret.\n"
     ]
    }
   ],
   "source": [
    "print(\"Want to hear a dirty joke?\")\n",
    "\n",
    "age = 10\n",
    "if age == 12:\n",
    "        print(\"A pig fell in the mud!\")\n",
    "else:\n",
    "        print(\"Shh. It's a secret.\")"
   ]
  },
  {
   "cell_type": "markdown",
   "id": "573c7f16",
   "metadata": {},
   "source": [
    "# if and elif Statements"
   ]
  },
  {
   "cell_type": "markdown",
   "id": "9a89b5d6",
   "metadata": {},
   "source": [
    " These statements are different \n",
    "from if-thenelse statements in that there can be more than one elif in the same statement:"
   ]
  },
  {
   "cell_type": "code",
   "execution_count": 66,
   "id": "fab773b0",
   "metadata": {},
   "outputs": [
    {
     "name": "stdout",
     "output_type": "stream",
     "text": [
      "What did 0 say to 8?\n",
      "Hi guys!\n"
     ]
    }
   ],
   "source": [
    ">>> age = 12\n",
    "if age == 10:\n",
    "        print(\"What do you call an unhappy cranberry?\")\n",
    "        print(\"A blueberry!\")\n",
    "elif age == 11:\n",
    "          print(\"What did the green grape say to the blue grape?\")\n",
    "          print(\"Breathe! Breathe!\")\n",
    "elif age == 12:\n",
    "         print(\"What did 0 say to 8?\")\n",
    "         print(\"Hi guys!\")\n",
    "elif age == 13:\n",
    "          print(\"Why wasn't 10 afraid of 7?\")\n",
    "          print(\"Because rather than eating 9, 7 8 pi.\")\n",
    "else:\n",
    "          print(\"Huh?\")"
   ]
  },
  {
   "cell_type": "markdown",
   "id": "ba3b5b5d",
   "metadata": {},
   "source": [
    "# Combining Conditions"
   ]
  },
  {
   "cell_type": "markdown",
   "id": "366620be",
   "metadata": {},
   "source": [
    "You can combine conditions by using the keywords and and or, \n",
    "which produces shorter and simpler code. Here’s an example of using or:"
   ]
  },
  {
   "cell_type": "code",
   "execution_count": 67,
   "id": "2ed2070b",
   "metadata": {},
   "outputs": [
    {
     "name": "stdout",
     "output_type": "stream",
     "text": [
      "What is 13 + 49 + 84 + 155 + 97? A headache!\n"
     ]
    }
   ],
   "source": [
    "if age == 10 or age == 11 or age == 12 or age == 13:\n",
    "        print('What is 13 + 49 + 84 + 155 + 97? A headache!')\n",
    "else:\n",
    "        print('Huh?')"
   ]
  },
  {
   "cell_type": "markdown",
   "id": "a6d4291b",
   "metadata": {},
   "source": [
    "To shrink this example even further"
   ]
  },
  {
   "cell_type": "code",
   "execution_count": 68,
   "id": "8ee3b82f",
   "metadata": {},
   "outputs": [
    {
     "name": "stdout",
     "output_type": "stream",
     "text": [
      "What is 13 + 49 + 84 + 155 + 97? A headache!\n"
     ]
    }
   ],
   "source": [
    "if age >= 10 and age <= 13:\n",
    "    print('What is 13 + 49 + 84 + 155 + 97? A headache!')\n",
    "else:\n",
    "    print('Huh?')        "
   ]
  },
  {
   "cell_type": "markdown",
   "id": "2d6f9ec1",
   "metadata": {},
   "source": [
    "# Variables with No Value—None"
   ]
  },
  {
   "cell_type": "code",
   "execution_count": 70,
   "id": "ca1cbc77",
   "metadata": {},
   "outputs": [
    {
     "name": "stdout",
     "output_type": "stream",
     "text": [
      "None\n"
     ]
    }
   ],
   "source": [
    "myval = None\n",
    "print(myval)\n"
   ]
  },
  {
   "cell_type": "markdown",
   "id": "59775665",
   "metadata": {},
   "source": [
    "You can check for None in an if statement as well, as in the following example:"
   ]
  },
  {
   "cell_type": "code",
   "execution_count": 72,
   "id": "c3ba9ca9",
   "metadata": {},
   "outputs": [
    {
     "name": "stdout",
     "output_type": "stream",
     "text": [
      "The variable myval doesn't have a value\n"
     ]
    }
   ],
   "source": [
    "myval = None\n",
    "if myval == None:\n",
    "    print(\"The variable myval doesn't have a value\")"
   ]
  },
  {
   "cell_type": "markdown",
   "id": "48daed82",
   "metadata": {},
   "source": [
    "# The Difference Between Strings and Numbers"
   ]
  },
  {
   "cell_type": "markdown",
   "id": "1fa0a0c2",
   "metadata": {},
   "source": [
    "User input is what a person enters on the keyboard—whether that’s a character, \n",
    "a pressed arrow or enter key, or anything else. User input comes \n",
    "into Python as a string, which means that when you type the number 10 on your keyboard, \n",
    "Python saves the number 10 into a variable as a string, not a number."
   ]
  },
  {
   "cell_type": "markdown",
   "id": "f316d8ae",
   "metadata": {},
   "source": [
    "What’s the difference between the number 10 and the string '10'? \n",
    "Both look the same to us, with the only difference being that one is surrounded by quotes. \n",
    "But to a computer, the two are very different."
   ]
  },
  {
   "cell_type": "markdown",
   "id": "c25cca63",
   "metadata": {},
   "source": [
    "For example, suppose that we compare the value of the variable age to a number in an if statement, like this:"
   ]
  },
  {
   "cell_type": "code",
   "execution_count": 76,
   "id": "eb46a293",
   "metadata": {},
   "outputs": [
    {
     "name": "stdout",
     "output_type": "stream",
     "text": [
      "What's the best way to speak to a monster?\n",
      "From as far away as possible!\n"
     ]
    }
   ],
   "source": [
    "age=10\n",
    "if age == 10:\n",
    "        print(\"What's the best way to speak to a monster?\")\n",
    "        print(\"From as far away as possible!\")"
   ]
  },
  {
   "cell_type": "markdown",
   "id": "de30aeba",
   "metadata": {},
   "source": [
    "Fortunately, Python has magic functions that can turn strings into numbers and numbers into strings. \n",
    "or example, you can convert the string '10' into a number with int:"
   ]
  },
  {
   "cell_type": "code",
   "execution_count": 78,
   "id": "a8f1f7e1",
   "metadata": {},
   "outputs": [
    {
     "name": "stdout",
     "output_type": "stream",
     "text": [
      "What's the best way to speak to a monster?\n",
      "From as far away as possible!\n"
     ]
    }
   ],
   "source": [
    "age = '10'\n",
    "converted_age = int(age)\n",
    "if converted_age == 10:\n",
    "        print(\"What's the best way to speak to a monster?\")\n",
    "        print(\"From as far away as possible!\")"
   ]
  },
  {
   "cell_type": "markdown",
   "id": "bd1467c8",
   "metadata": {},
   "source": [
    "# Homework"
   ]
  },
  {
   "cell_type": "markdown",
   "id": "8f2a79bb",
   "metadata": {},
   "source": [
    "#1: Are You Rich?\n",
    "What do you think the following code will do? Try to figure out the answer without typing it into the shell, and then check your answer.\n",
    "\n",
    "money = 2000\n",
    "if money > 1000:\n",
    "        print(\"I'm rich!!\")\n",
    "else:\n",
    "        print(\"I'm not rich!!\")\n",
    "          print(\"But I might be later...\")"
   ]
  },
  {
   "cell_type": "markdown",
   "id": "6f5059a7",
   "metadata": {},
   "source": [
    "#2: Twinkies!\n",
    "Create an if statement that checks whether a number of Twinkies (in the variable twinkies) is less than 100 or greater than 500. \n",
    "Your program should print the message “Too few or too many” if the condition is true."
   ]
  },
  {
   "cell_type": "markdown",
   "id": "cac2d36c",
   "metadata": {},
   "source": [
    "#3: Just the Right Number\n",
    "Create an if statement that checks whether the amount of money contained in the variable \n",
    "money is between 100 and 500 or between 1,000 and 5,000."
   ]
  },
  {
   "cell_type": "markdown",
   "id": "26c72430",
   "metadata": {},
   "source": [
    "#4: I Can Fight Those Ninjas\n",
    "Create an if statement that prints the string “That’s too many” if the variable ninjas contains a number that’s less than 50, \n",
    "prints “It’ll be a struggle, but I can take ’em” if it’s less than 30, and prints \n",
    "“I can fight those ninjas!” if it’s less than 10. You might try out your code with:\n",
    "\n",
    ">>> ninjas = 5"
   ]
  },
  {
   "cell_type": "markdown",
   "id": "8da16c52",
   "metadata": {},
   "source": [
    "# Chapter 6. Going Loopy"
   ]
  },
  {
   "cell_type": "code",
   "execution_count": null,
   "id": "9b775793",
   "metadata": {},
   "outputs": [],
   "source": []
  }
 ],
 "metadata": {
  "kernelspec": {
   "display_name": "Python 3 (ipykernel)",
   "language": "python",
   "name": "python3"
  },
  "language_info": {
   "codemirror_mode": {
    "name": "ipython",
    "version": 3
   },
   "file_extension": ".py",
   "mimetype": "text/x-python",
   "name": "python",
   "nbconvert_exporter": "python",
   "pygments_lexer": "ipython3",
   "version": "3.9.12"
  }
 },
 "nbformat": 4,
 "nbformat_minor": 5
}
